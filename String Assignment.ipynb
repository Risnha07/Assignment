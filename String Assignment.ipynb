{
 "cells": [
  {
   "cell_type": "code",
   "execution_count": 8,
   "id": "f9f3765d-eba2-44c1-8487-5268f43b53fe",
   "metadata": {},
   "outputs": [],
   "source": [
    "# Ans 1. We can store a single quote as a string variable by writing it within double quotes.\n",
    " "
   ]
  },
  {
   "cell_type": "code",
   "execution_count": 9,
   "id": "b3ac06ea-34e9-4e74-9487-8986df3368cd",
   "metadata": {},
   "outputs": [],
   "source": [
    " # Ans 2. Here x is a string type variable because no variable type is specified and the default variable type is string."
   ]
  },
  {
   "cell_type": "code",
   "execution_count": 10,
   "id": "94604a41-5b94-46a4-aaa1-66fc3ea55c76",
   "metadata": {},
   "outputs": [
    {
     "data": {
      "text/plain": [
       "33"
      ]
     },
     "execution_count": 10,
     "metadata": {},
     "output_type": "execute_result"
    }
   ],
   "source": [
    "# Ans 3. \n",
    "s = 'Welcome to Python foundation course'\n",
    "\n",
    "s.find('s')\n",
    "s."
   ]
  },
  {
   "cell_type": "code",
   "execution_count": 11,
   "id": "4845866f-e412-4ce2-935f-7b96f76b17e8",
   "metadata": {},
   "outputs": [
    {
     "data": {
      "text/plain": [
       "3"
      ]
     },
     "execution_count": 11,
     "metadata": {},
     "output_type": "execute_result"
    }
   ],
   "source": [
    "s.count('e')"
   ]
  },
  {
   "cell_type": "code",
   "execution_count": 12,
   "id": "342b9a36-98e0-4f99-a222-28aa6da52596",
   "metadata": {},
   "outputs": [
    {
     "data": {
      "text/plain": [
       "35"
      ]
     },
     "execution_count": 12,
     "metadata": {},
     "output_type": "execute_result"
    }
   ],
   "source": [
    "len(s)"
   ]
  },
  {
   "cell_type": "code",
   "execution_count": 15,
   "id": "2ca66a93-6194-4e7e-b5a0-c56cfa08ffda",
   "metadata": {},
   "outputs": [
    {
     "data": {
      "text/plain": [
       "'Hello , Welcome to Python foundation course'"
      ]
     },
     "execution_count": 15,
     "metadata": {},
     "output_type": "execute_result"
    }
   ],
   "source": [
    "b = 'Hello , '\n",
    "\n",
    "b + s"
   ]
  },
  {
   "cell_type": "code",
   "execution_count": 16,
   "id": "90becd04-c046-45b2-a8a9-d61407f997d8",
   "metadata": {},
   "outputs": [],
   "source": [
    "\n",
    "# Ans 4.\n"
   ]
  },
  {
   "cell_type": "code",
   "execution_count": 21,
   "id": "de384c1a-2c40-4452-aa27-950265e1a80b",
   "metadata": {},
   "outputs": [
    {
     "name": "stdout",
     "output_type": "stream",
     "text": [
      "Alphabets in lowercase =  4\n",
      "Alphabets in uppercase =  2\n",
      "Number of numericals =  5\n"
     ]
    }
   ],
   "source": [
    "word = 'PanaJi@12256'\n",
    "lower = 0\n",
    "upper = 0\n",
    "digit = 0\n",
    "\n",
    "for i in word:\n",
    "    if(i.islower()):\n",
    "        lower+=1\n",
    "    elif(i.isupper()):\n",
    "        upper+=1\n",
    "    elif(i.isdigit()):\n",
    "        digit+=1\n",
    "    else:\n",
    "        digit+=0\n",
    "    \n",
    "print(\"Alphabets in lowercase = \",lower)\n",
    "print(\"Alphabets in uppercase = \",upper)\n",
    "print(\"Number of numericals = \",digit)"
   ]
  },
  {
   "cell_type": "code",
   "execution_count": 22,
   "id": "e95d98b2-ff7b-43ba-9f6f-9508af2b903a",
   "metadata": {},
   "outputs": [],
   "source": [
    "\n",
    "# Ans 5.\n"
   ]
  },
  {
   "cell_type": "code",
   "execution_count": 24,
   "id": "85d2b2ae-da17-42fd-a9db-a6696a76dae2",
   "metadata": {},
   "outputs": [],
   "source": [
    "a = 10\n",
    "x = str(a)"
   ]
  },
  {
   "cell_type": "code",
   "execution_count": 25,
   "id": "ce729659-2b77-4388-be35-c33ee6e6da9d",
   "metadata": {},
   "outputs": [
    {
     "data": {
      "text/plain": [
       "'10'"
      ]
     },
     "execution_count": 25,
     "metadata": {},
     "output_type": "execute_result"
    }
   ],
   "source": [
    "x"
   ]
  },
  {
   "cell_type": "code",
   "execution_count": 26,
   "id": "0ee4078e-5e01-4d1a-b6fc-1b9259ac4c50",
   "metadata": {},
   "outputs": [
    {
     "data": {
      "text/plain": [
       "str"
      ]
     },
     "execution_count": 26,
     "metadata": {},
     "output_type": "execute_result"
    }
   ],
   "source": [
    "type(x)"
   ]
  },
  {
   "cell_type": "code",
   "execution_count": null,
   "id": "d24cf2bc-29cf-4d4d-aa41-4f8edcd0e38d",
   "metadata": {},
   "outputs": [],
   "source": []
  }
 ],
 "metadata": {
  "kernelspec": {
   "display_name": "Python 3 (ipykernel)",
   "language": "python",
   "name": "python3"
  },
  "language_info": {
   "codemirror_mode": {
    "name": "ipython",
    "version": 3
   },
   "file_extension": ".py",
   "mimetype": "text/x-python",
   "name": "python",
   "nbconvert_exporter": "python",
   "pygments_lexer": "ipython3",
   "version": "3.10.8"
  }
 },
 "nbformat": 4,
 "nbformat_minor": 5
}
