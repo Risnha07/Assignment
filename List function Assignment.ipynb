{
 "cells": [
  {
   "cell_type": "code",
   "execution_count": 1,
   "id": "805aeaf1-313b-48af-a094-4fef1648b2f9",
   "metadata": {},
   "outputs": [],
   "source": [
    "# ANS 1.\n",
    "\n",
    "l = [1,2,3,4,5]"
   ]
  },
  {
   "cell_type": "code",
   "execution_count": 2,
   "id": "84767c7e-91ab-4e03-aa73-7e4ac6dc879d",
   "metadata": {},
   "outputs": [],
   "source": [
    "l.append(6)"
   ]
  },
  {
   "cell_type": "code",
   "execution_count": 3,
   "id": "02787b92-09cf-4b59-a502-a55b9d9951ac",
   "metadata": {},
   "outputs": [
    {
     "data": {
      "text/plain": [
       "[1, 2, 3, 4, 5, 6]"
      ]
     },
     "execution_count": 3,
     "metadata": {},
     "output_type": "execute_result"
    }
   ],
   "source": [
    "l"
   ]
  },
  {
   "cell_type": "code",
   "execution_count": 11,
   "id": "256d85df-73d5-40a8-afb6-170c3f015370",
   "metadata": {},
   "outputs": [],
   "source": [
    "# ANS 2.\n",
    "\n",
    "''' The pop() function deletes the last element in the list and doesnot take any parameter element.\n",
    "Whereas , remove() function takes parameter element as input and deletes the first occurence of the element only.\n",
    "\n",
    "Example :\n",
    "'''\n",
    "x = [\"Steve\",\"Tonny\",\"Natasha\",\"Bruce\",\"Peter\",\"T'Challa\",\"Clint\",\"Peter\",\"Tonny\",\"Thor\"]"
   ]
  },
  {
   "cell_type": "code",
   "execution_count": 12,
   "id": "70d1fc48-d916-4eeb-9ba1-16a5f74e8a46",
   "metadata": {},
   "outputs": [
    {
     "data": {
      "text/plain": [
       "'Thor'"
      ]
     },
     "execution_count": 12,
     "metadata": {},
     "output_type": "execute_result"
    }
   ],
   "source": [
    "x.pop()"
   ]
  },
  {
   "cell_type": "code",
   "execution_count": 13,
   "id": "17361497-3975-4b42-9bf4-88847430629f",
   "metadata": {},
   "outputs": [
    {
     "data": {
      "text/plain": [
       "['Steve',\n",
       " 'Tonny',\n",
       " 'Natasha',\n",
       " 'Bruce',\n",
       " 'Peter',\n",
       " \"T'Challa\",\n",
       " 'Clint',\n",
       " 'Peter',\n",
       " 'Tonny']"
      ]
     },
     "execution_count": 13,
     "metadata": {},
     "output_type": "execute_result"
    }
   ],
   "source": [
    "x"
   ]
  },
  {
   "cell_type": "code",
   "execution_count": 14,
   "id": "bc92bf4e-8bb4-4bd6-b8c3-4ed61144a02f",
   "metadata": {},
   "outputs": [],
   "source": [
    "x.remove(\"Tonny\")"
   ]
  },
  {
   "cell_type": "code",
   "execution_count": 15,
   "id": "972fecad-97ab-4942-84ae-fb96083e2790",
   "metadata": {},
   "outputs": [
    {
     "data": {
      "text/plain": [
       "['Steve', 'Natasha', 'Bruce', 'Peter', \"T'Challa\", 'Clint', 'Peter', 'Tonny']"
      ]
     },
     "execution_count": 15,
     "metadata": {},
     "output_type": "execute_result"
    }
   ],
   "source": [
    "x"
   ]
  },
  {
   "cell_type": "code",
   "execution_count": 23,
   "id": "6cdb0dea-d68f-4a3f-81cc-0a8cbcf2f237",
   "metadata": {},
   "outputs": [],
   "source": [
    "# ANS 3.\n",
    "\n",
    "num = [55,12,54,5,32,545,12,1,78,6,42,332,120,85]"
   ]
  },
  {
   "cell_type": "code",
   "execution_count": 27,
   "id": "16538f1f-f258-4866-a791-ebf5c54a504f",
   "metadata": {},
   "outputs": [],
   "source": [
    "num.sort(reverse=True)"
   ]
  },
  {
   "cell_type": "code",
   "execution_count": 28,
   "id": "3bb513c1-4bae-4ab2-bb33-e3a23ab363a4",
   "metadata": {},
   "outputs": [
    {
     "data": {
      "text/plain": [
       "[545, 332, 120, 85, 78, 55, 54, 42, 32, 12, 12, 6, 5, 1]"
      ]
     },
     "execution_count": 28,
     "metadata": {},
     "output_type": "execute_result"
    }
   ],
   "source": [
    "num"
   ]
  },
  {
   "cell_type": "code",
   "execution_count": 29,
   "id": "3eb1d4f1-771f-4ab8-8104-a180435b0add",
   "metadata": {},
   "outputs": [],
   "source": [
    "# ANS 4.\n",
    "\n",
    "a = [1,2,3,4,5,1,2,3,2,1,4,5,6,3,2,1,4,5,8,7,9]"
   ]
  },
  {
   "cell_type": "code",
   "execution_count": 30,
   "id": "8748e97e-9701-4d65-9ba4-42bb5a40b4dd",
   "metadata": {},
   "outputs": [
    {
     "data": {
      "text/plain": [
       "4"
      ]
     },
     "execution_count": 30,
     "metadata": {},
     "output_type": "execute_result"
    }
   ],
   "source": [
    "a.count(1)"
   ]
  },
  {
   "cell_type": "code",
   "execution_count": 31,
   "id": "399cd161-bef0-4d59-a46a-503cb0e3f3fd",
   "metadata": {},
   "outputs": [],
   "source": [
    "# ANS 5.\n",
    "\n",
    "num.reverse()"
   ]
  },
  {
   "cell_type": "code",
   "execution_count": 32,
   "id": "9af7f320-bf89-48ea-9ef5-b46074782746",
   "metadata": {},
   "outputs": [
    {
     "data": {
      "text/plain": [
       "[1, 5, 6, 12, 12, 32, 42, 54, 55, 78, 85, 120, 332, 545]"
      ]
     },
     "execution_count": 32,
     "metadata": {},
     "output_type": "execute_result"
    }
   ],
   "source": [
    "num"
   ]
  },
  {
   "cell_type": "code",
   "execution_count": null,
   "id": "7a43fef1-f747-4b3f-9175-55324a6a4c8c",
   "metadata": {},
   "outputs": [],
   "source": []
  }
 ],
 "metadata": {
  "kernelspec": {
   "display_name": "Python 3 (ipykernel)",
   "language": "python",
   "name": "python3"
  },
  "language_info": {
   "codemirror_mode": {
    "name": "ipython",
    "version": 3
   },
   "file_extension": ".py",
   "mimetype": "text/x-python",
   "name": "python",
   "nbconvert_exporter": "python",
   "pygments_lexer": "ipython3",
   "version": "3.10.8"
  }
 },
 "nbformat": 4,
 "nbformat_minor": 5
}
