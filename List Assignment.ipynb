{
 "cells": [
  {
   "cell_type": "code",
   "execution_count": 2,
   "id": "dfef1ec2-e47f-48be-85ce-e802b57d4d0c",
   "metadata": {},
   "outputs": [],
   "source": [
    "# Ans 1.\n",
    "\n",
    "emmpty_list = []"
   ]
  },
  {
   "cell_type": "code",
   "execution_count": 18,
   "id": "3ab2a7eb-0804-43c0-9121-22bbaab8c862",
   "metadata": {},
   "outputs": [],
   "source": [
    "# Ans 2.\n",
    "\n",
    "x = [56,41,20,32,78,51]"
   ]
  },
  {
   "cell_type": "code",
   "execution_count": 19,
   "id": "04a71aee-a274-47e9-9c15-f383855ccb9d",
   "metadata": {},
   "outputs": [],
   "source": [
    "x.append(100)"
   ]
  },
  {
   "cell_type": "code",
   "execution_count": 20,
   "id": "db65ba3d-cc81-4709-9373-8216aba330b9",
   "metadata": {},
   "outputs": [
    {
     "data": {
      "text/plain": [
       "[56, 41, 20, 32, 78, 51, 100]"
      ]
     },
     "execution_count": 20,
     "metadata": {},
     "output_type": "execute_result"
    }
   ],
   "source": [
    "x"
   ]
  },
  {
   "cell_type": "code",
   "execution_count": 21,
   "id": "3ca2eb78-c438-4793-a4f3-a7afd9a22747",
   "metadata": {},
   "outputs": [
    {
     "data": {
      "text/plain": [
       "100"
      ]
     },
     "execution_count": 21,
     "metadata": {},
     "output_type": "execute_result"
    }
   ],
   "source": [
    "# Ans 3.\n",
    "\n",
    "x[len(x)-1]"
   ]
  },
  {
   "cell_type": "code",
   "execution_count": 22,
   "id": "7b82ef7c-5216-4fb8-8943-85195f7759de",
   "metadata": {},
   "outputs": [
    {
     "data": {
      "text/plain": [
       "[100, 51, 78, 32, 20, 41, 56]"
      ]
     },
     "execution_count": 22,
     "metadata": {},
     "output_type": "execute_result"
    }
   ],
   "source": [
    "# Ans 4.\n",
    "\n",
    "x[::-1]"
   ]
  },
  {
   "cell_type": "code",
   "execution_count": 23,
   "id": "1fe88bc0-f76b-4903-9fa3-cd01194f47fc",
   "metadata": {},
   "outputs": [],
   "source": [
    "# Ans 5.\n",
    "\n",
    "x.sort()"
   ]
  },
  {
   "cell_type": "code",
   "execution_count": 24,
   "id": "4a9a681f-b675-42f9-9534-8b607014b9a5",
   "metadata": {},
   "outputs": [
    {
     "data": {
      "text/plain": [
       "[20, 32, 41, 51, 56, 78, 100]"
      ]
     },
     "execution_count": 24,
     "metadata": {},
     "output_type": "execute_result"
    }
   ],
   "source": [
    "x"
   ]
  },
  {
   "cell_type": "code",
   "execution_count": 26,
   "id": "64cfcca1-39d5-4092-a0f3-f4f90bf1dd92",
   "metadata": {},
   "outputs": [],
   "source": [
    "# Ans 6.\n",
    "\n",
    "movie = [\"Twilight\",\"KGF\",\"Avengers\"]"
   ]
  },
  {
   "cell_type": "code",
   "execution_count": 28,
   "id": "d8fee2f4-be8a-4935-9327-e212324ac470",
   "metadata": {},
   "outputs": [
    {
     "data": {
      "text/plain": [
       "'KGF'"
      ]
     },
     "execution_count": 28,
     "metadata": {},
     "output_type": "execute_result"
    }
   ],
   "source": [
    "movie[1]"
   ]
  },
  {
   "cell_type": "code",
   "execution_count": 29,
   "id": "32ec3ff8-0052-4bbb-bc81-3843fd0c3ccf",
   "metadata": {},
   "outputs": [],
   "source": [
    "# Ans 7.\n",
    "\n",
    "animal = [\"Lion\",\"Bear\",\"Elephant\",\"Tiger\",\"Zebra\",\"Bull\"]"
   ]
  },
  {
   "cell_type": "code",
   "execution_count": 30,
   "id": "f0eb7314-9f57-4346-96ee-6dd502271d20",
   "metadata": {},
   "outputs": [],
   "source": [
    "animal.append(\"Panther\")"
   ]
  },
  {
   "cell_type": "code",
   "execution_count": 31,
   "id": "ceb9e729-61ae-4bc6-8a3a-b318c74a7043",
   "metadata": {},
   "outputs": [
    {
     "data": {
      "text/plain": [
       "['Lion', 'Bear', 'Elephant', 'Tiger', 'Zebra', 'Bull', 'Panther']"
      ]
     },
     "execution_count": 31,
     "metadata": {},
     "output_type": "execute_result"
    }
   ],
   "source": [
    "animal"
   ]
  },
  {
   "cell_type": "code",
   "execution_count": 32,
   "id": "91487d25-e781-492d-8744-60ec6bec58d4",
   "metadata": {},
   "outputs": [],
   "source": [
    "# Ans 8.\n",
    "\n",
    "city = [\"Kolkata\",\"Mumbai\",\"Delhi\",\"Chennai\",\"Bengaluru\",\"Amsterdam\",\"Los Angeles\",\"Washington\",\"Melbourne\",\"London\"]"
   ]
  },
  {
   "cell_type": "code",
   "execution_count": 33,
   "id": "b8f28bab-e490-4d89-9e0c-0a6b08386c2c",
   "metadata": {},
   "outputs": [
    {
     "data": {
      "text/plain": [
       "6"
      ]
     },
     "execution_count": 33,
     "metadata": {},
     "output_type": "execute_result"
    }
   ],
   "source": [
    "city.index(\"Los Angeles\")"
   ]
  },
  {
   "cell_type": "code",
   "execution_count": null,
   "id": "d13b35db-e26a-43c3-a95e-90719786bc16",
   "metadata": {},
   "outputs": [],
   "source": []
  }
 ],
 "metadata": {
  "kernelspec": {
   "display_name": "Python 3 (ipykernel)",
   "language": "python",
   "name": "python3"
  },
  "language_info": {
   "codemirror_mode": {
    "name": "ipython",
    "version": 3
   },
   "file_extension": ".py",
   "mimetype": "text/x-python",
   "name": "python",
   "nbconvert_exporter": "python",
   "pygments_lexer": "ipython3",
   "version": "3.10.8"
  }
 },
 "nbformat": 4,
 "nbformat_minor": 5
}
