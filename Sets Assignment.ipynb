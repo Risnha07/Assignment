{
 "cells": [
  {
   "cell_type": "raw",
   "id": "f1b9d134-a9be-4da4-abdd-44507514a186",
   "metadata": {},
   "source": [
    "ANS 1) A set is used to to store multiple data items in a single variable in python."
   ]
  },
  {
   "cell_type": "raw",
   "id": "59004f77-163c-4b9b-b8c4-86908e472c4f",
   "metadata": {},
   "source": [
    "ANS 2) A set in python is created by\n",
    "       s = {1,2,3}"
   ]
  },
  {
   "cell_type": "raw",
   "id": "590e6b7e-0070-487d-8325-1f5f7d386fb3",
   "metadata": {},
   "source": [
    "ANS 3) "
   ]
  },
  {
   "cell_type": "code",
   "execution_count": 2,
   "id": "a1754ef6-b27a-40fc-b0e0-8242678c3f06",
   "metadata": {},
   "outputs": [],
   "source": [
    "s1 = {1,2,3,4}"
   ]
  },
  {
   "cell_type": "code",
   "execution_count": 3,
   "id": "f7d1ee2e-4695-4c3c-a648-14b42b0830b0",
   "metadata": {},
   "outputs": [],
   "source": [
    "s1.add(5)"
   ]
  },
  {
   "cell_type": "code",
   "execution_count": 4,
   "id": "eae0bff1-4d5a-483b-8c94-105e3697660a",
   "metadata": {},
   "outputs": [
    {
     "data": {
      "text/plain": [
       "{1, 2, 3, 4, 5}"
      ]
     },
     "execution_count": 4,
     "metadata": {},
     "output_type": "execute_result"
    }
   ],
   "source": [
    "s1"
   ]
  },
  {
   "cell_type": "raw",
   "id": "66eef633-f626-4421-9790-b63af0619c1d",
   "metadata": {},
   "source": [
    "ANS 4)"
   ]
  },
  {
   "cell_type": "code",
   "execution_count": 5,
   "id": "de196726-8b82-4546-bd64-2dcc7e79f23a",
   "metadata": {},
   "outputs": [],
   "source": [
    "s1.remove(4)"
   ]
  },
  {
   "cell_type": "code",
   "execution_count": 6,
   "id": "2d05c987-6cbd-4b7f-a10c-f89ca6a03cc5",
   "metadata": {},
   "outputs": [
    {
     "data": {
      "text/plain": [
       "{1, 2, 3, 5}"
      ]
     },
     "execution_count": 6,
     "metadata": {},
     "output_type": "execute_result"
    }
   ],
   "source": [
    "s1"
   ]
  },
  {
   "cell_type": "raw",
   "id": "56cc103b-c956-46e0-9f4c-73e973f2cf32",
   "metadata": {},
   "source": [
    "ANS 5)"
   ]
  },
  {
   "cell_type": "code",
   "execution_count": 7,
   "id": "008de26c-f487-4d3c-8c33-deeff0a3d712",
   "metadata": {},
   "outputs": [
    {
     "data": {
      "text/plain": [
       "4"
      ]
     },
     "execution_count": 7,
     "metadata": {},
     "output_type": "execute_result"
    }
   ],
   "source": [
    "len(s1)"
   ]
  },
  {
   "cell_type": "code",
   "execution_count": null,
   "id": "b3ed4c20-f5e7-4e97-a0be-b3d20b6e47a9",
   "metadata": {},
   "outputs": [],
   "source": []
  }
 ],
 "metadata": {
  "kernelspec": {
   "display_name": "Python 3 (ipykernel)",
   "language": "python",
   "name": "python3"
  },
  "language_info": {
   "codemirror_mode": {
    "name": "ipython",
    "version": 3
   },
   "file_extension": ".py",
   "mimetype": "text/x-python",
   "name": "python",
   "nbconvert_exporter": "python",
   "pygments_lexer": "ipython3",
   "version": "3.10.8"
  }
 },
 "nbformat": 4,
 "nbformat_minor": 5
}
