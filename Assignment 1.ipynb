{
 "cells": [
  {
   "cell_type": "raw",
   "id": "26277c83-dd37-49ed-a5da-ffaab965f3e8",
   "metadata": {},
   "source": [
    "Ans 1 . The conventions being followed are :\n",
    "        (i) A variable name must not be a reserved keyword\n",
    "        (ii) Variable name must not contain any space in between\n",
    "        (iii) Variable name may contain number in between or at the end , but not at the beginning\n",
    "        (iv) It can contain alpha-numeric characters and underscore , but not any special character\n",
    "        (v) Variable names are case sensitive (age , Age , AGE are 3 different variables)\n",
    "        \n",
    "Ans 2 . If we declare a restricted keyword as a veriable , then the interpreter will display as Syntax error.\n",
    "\n",
    "Ans 3 . Yes we can declare a string as a variable name. Eg- Sudh.\n",
    "\n",
    "Ans 4 .  Yes we can write \" _ \" as a variable.\n",
    "         Example : _=30\n",
    "                   print(_)\n",
    "                   \n",
    "                   it gives output 30\n",
    "\n",
    "Ans 5 . Let dinamic variable name is pyt.\n",
    "        pyt=2023\n",
    "        print(pyt)\n",
    "        \n",
    "        it gives output 2023.\n",
    "                   "
   ]
  }
 ],
 "metadata": {
  "kernelspec": {
   "display_name": "Python 3 (ipykernel)",
   "language": "python",
   "name": "python3"
  },
  "language_info": {
   "codemirror_mode": {
    "name": "ipython",
    "version": 3
   },
   "file_extension": ".py",
   "mimetype": "text/x-python",
   "name": "python",
   "nbconvert_exporter": "python",
   "pygments_lexer": "ipython3",
   "version": "3.10.8"
  }
 },
 "nbformat": 4,
 "nbformat_minor": 5
}
